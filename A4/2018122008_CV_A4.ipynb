{
  "nbformat": 4,
  "nbformat_minor": 0,
  "metadata": {
    "colab": {
      "name": "FML.ipynb",
      "provenance": [],
      "collapsed_sections": []
    },
    "kernelspec": {
      "name": "python3",
      "display_name": "Python 3"
    },
    "accelerator": "GPU"
  },
  "cells": [
    {
      "cell_type": "code",
      "metadata": {
        "id": "Eur2ubiu0Wcx",
        "colab_type": "code",
        "colab": {
          "base_uri": "https://localhost:8080/",
          "height": 35
        },
        "outputId": "bdc67bb9-9585-42b7-b4b1-56a721fb46d1"
      },
      "source": [
        "import numpy as np \n",
        "import pandas as pd \n",
        "import tensorboard \n",
        "import tensorflow as tf \n",
        "import cv2 \n",
        "import csv \n",
        "import sys \n",
        "import keras\n",
        "import random \n",
        "import  os \n",
        "from imgaug import augmenters as iaa "
      ],
      "execution_count": 1,
      "outputs": [
        {
          "output_type": "stream",
          "text": [
            "Using TensorFlow backend.\n"
          ],
          "name": "stderr"
        }
      ]
    },
    {
      "cell_type": "code",
      "metadata": {
        "id": "9i4nlSMV63jx",
        "colab_type": "code",
        "colab": {}
      },
      "source": [
        ""
      ],
      "execution_count": 0,
      "outputs": []
    },
    {
      "cell_type": "markdown",
      "metadata": {
        "id": "dGqkE5an635f",
        "colab_type": "text"
      },
      "source": [
        "##**IMPLEMENATATION DETAILS**:\n",
        "\n",
        "batch_size: amount of samples that will be feed-forward in our model at once, after which loss is computed . Here, it is set to 64 .\n",
        "\n",
        "* Img_width = 32, Img_height = 32, Channels = 3 as RGB image\n",
        "* Loss_function: Compare predictions with ground truth during training\n",
        "               (Used Binary Cross Entropy Loss)\n",
        "* Number of classes: 100\n",
        "* Number of epoch/iterations: 100\n",
        "* Total Number of Parameters : 6,777,060\n",
        "\n",
        "* Optimizer: Method by which we update the weights of our neural network\n",
        "20% of data used fro validation . Here , I have used RMSProp with LR=0.0001 \n",
        "and decay as (1e-06)\n",
        "\n",
        "\n",
        "\n",
        "* We use sparse categorical crossentropy instead of true categorical crossentropy. Categorical crossentropy requires our data to be categorical, which can e.g. be achieved with to_categorical i.e. one-hot encoding of your target vectors. \n",
        "\n",
        "* Our targets are integers in the range [0,9] so no need to convert them to 100x1 vectors . (One Hot Vector Encoding)\n"
      ]
    },
    {
      "cell_type": "code",
      "metadata": {
        "id": "KI7Dhv4k0qs8",
        "colab_type": "code",
        "colab": {}
      },
      "source": [
        "from tensorflow.keras import datasets,layers,models \n",
        "import matplotlib.pyplot as plt "
      ],
      "execution_count": 0,
      "outputs": []
    },
    {
      "cell_type": "code",
      "metadata": {
        "id": "PxjPylWI0t3l",
        "colab_type": "code",
        "colab": {
          "base_uri": "https://localhost:8080/",
          "height": 88
        },
        "outputId": "e0ba81ee-84e5-4ab0-fa3b-a8ea0cb36db5"
      },
      "source": [
        "(train_images, train_labels), (test_images, test_labels) = datasets.cifar100.load_data()\n",
        "train_images=train_images.astype('float32')\n",
        "test_images = test_images.astype('float32')\n",
        "train_images/= 255.\n",
        "test_images/= 255.\n",
        "\n",
        "train_labels= keras.utils.to_categorical(train_labels,100)\n",
        "test_labels = keras.utils.to_categorical(test_labels, 100)\n",
        "\n",
        "print('x_train LABELS shape:',train_labels.shape)\n",
        "print('x_test LABELS shape:',test_labels.shape)\n",
        "# Normalize pixel values to be between 0 and 1"
      ],
      "execution_count": 3,
      "outputs": [
        {
          "output_type": "stream",
          "text": [
            "Downloading data from https://www.cs.toronto.edu/~kriz/cifar-100-python.tar.gz\n",
            "169009152/169001437 [==============================] - 2s 0us/step\n",
            "x_train LABELS shape: (50000, 100)\n",
            "x_test LABELS shape: (10000, 100)\n"
          ],
          "name": "stdout"
        }
      ]
    },
    {
      "cell_type": "code",
      "metadata": {
        "id": "Hw3jeaiO1M4O",
        "colab_type": "code",
        "colab": {}
      },
      "source": [
        "class_names = [\n",
        "    'apple', 'aquarium_fish', 'baby', 'bear', 'beaver', 'bed', 'bee', 'beetle', \n",
        "    'bicycle', 'bottle', 'bowl', 'boy', 'bridge', 'bus', 'butterfly', 'camel', \n",
        "    'can', 'castle', 'caterpillar', 'cattle', 'chair', 'chimpanzee', 'clock', \n",
        "    'cloud', 'cockroach', 'couch', 'crab', 'crocodile', 'cup', 'dinosaur', \n",
        "    'dolphin', 'elephant', 'flatfish', 'forest', 'fox', 'girl', 'hamster', \n",
        "    'house', 'kangaroo', 'keyboard', 'lamp', 'lawn_mower', 'leopard', 'lion',\n",
        "    'lizard', 'lobster', 'man', 'maple_tree', 'motorcycle', 'mountain', 'mouse',\n",
        "    'mushroom', 'oak_tree', 'orange', 'orchid', 'otter', 'palm_tree', 'pear',\n",
        "    'pickup_truck', 'pine_tree', 'plain', 'plate', 'poppy', 'porcupine',\n",
        "    'possum', 'rabbit', 'raccoon', 'ray', 'road', 'rocket', 'rose',\n",
        "    'sea', 'seal', 'shark', 'shrew', 'skunk', 'skyscraper', 'snail', 'snake',\n",
        "    'spider', 'squirrel', 'streetcar', 'sunflower', 'sweet_pepper', 'table',\n",
        "    'tank', 'telephone', 'television', 'tiger', 'tractor', 'train', 'trout',\n",
        "    'tulip', 'turtle', 'wardrobe', 'whale', 'willow_tree', 'wolf', 'woman',\n",
        "    'worm'\n",
        "]"
      ],
      "execution_count": 0,
      "outputs": []
    },
    {
      "cell_type": "code",
      "metadata": {
        "id": "rVfSqunu1EWj",
        "colab_type": "code",
        "colab": {
          "base_uri": "https://localhost:8080/",
          "height": 539
        },
        "outputId": "4132a068-7555-40ac-df9c-28e329240ffd"
      },
      "source": [
        "plt.figure(figsize=(20,10))\n",
        "for i in range(10):\n",
        "  plt.subplot(2,5,i+1)\n",
        "  plt.xticks([])\n",
        "  plt.yticks([])\n",
        "  plt.grid(False)\n",
        "  plt.imshow(np.asarray(train_images[i]))\n",
        "  plt.title(i+1)\n",
        "plt.show()"
      ],
      "execution_count": 5,
      "outputs": [
        {
          "output_type": "display_data",
          "data": {
            "image/png": "[encoded data removed]",
            "text/plain": [
              "<Figure size 1440x720 with 10 Axes>"
            ]
          },
          "metadata": {
            "tags": []
          }
        }
      ]
    },
    {
      "cell_type": "code",
      "metadata": {
        "id": "ek_aUcXU1b1f",
        "colab_type": "code",
        "colab": {}
      },
      "source": [
        "\n",
        "from __future__ import print_function\n",
        "import keras\n",
        "from keras.datasets import cifar100\n",
        "from keras.preprocessing.image import ImageDataGenerator\n",
        "from keras.models import Sequential\n",
        "from keras.layers import Dense, Dropout, Activation, Flatten\n",
        "from keras.layers import Conv2D, MaxPooling2D\n"
      ],
      "execution_count": 0,
      "outputs": []
    },
    {
      "cell_type": "code",
      "metadata": {
        "id": "ym6U1sUj9sCx",
        "colab_type": "code",
        "colab": {}
      },
      "source": [
        ""
      ],
      "execution_count": 0,
      "outputs": []
    },
    {
      "cell_type": "markdown",
      "metadata": {
        "id": "Ha6bjhyN9sTd",
        "colab_type": "text"
      },
      "source": [
        "Techniques used:\n",
        "* Batch Normalization\n",
        "Added batch norm layers after all the convolution layers. The idea is that if we normalize the inputs in order to improve training why can't we do that while giving input to the hidden layers. It stabilizes training and acts as a sort of a regularizer. Batch normalization reduces the amount by what the hidden unit values shift around.\n",
        "* Dropout:\n",
        "Dropout refers to ignoring units (i.e. neurons) during the training phase of a certain set of neurons which is chosen at random. Dropout is useful to prevent overfitting. A fully connected layer occupies most of the parameters, and hence, neurons develop co-dependency amongst each other during training which curbs the individual power of each neuron leading to over-fitting of training data.\n",
        "* Average Pooling:\n",
        "Instead of taking MaxPooling() while downsampling we can take the average of the samples which gives us AveragePool().\n"
      ]
    },
    {
      "cell_type": "code",
      "metadata": {
        "id": "K_TEoN2d1odv",
        "colab_type": "code",
        "colab": {}
      },
      "source": [
        "import keras.layers as KL\n",
        "from keras.layers import Conv2D,Activation,MaxPooling2D,Dropout\n",
        "from keras.layers import Dense, Dropout, Activation, Flatten\n",
        "\n",
        "model=keras.models.Sequential()\n",
        "model.add(Conv2D(128, (3, 3), padding='same',\n",
        "                 input_shape=train_images.shape[1:]))\n",
        "model.add(Activation('elu'))\n",
        "model.add(Conv2D(128, (3, 3)))\n",
        "model.add(Activation('elu'))\n",
        "model.add(MaxPooling2D(pool_size=(2, 2)))\n",
        "#model.add(Dropout(0.25))\n",
        "\n",
        "model.add(Conv2D(256, (3, 3), padding='same'))\n",
        "model.add(Activation('elu'))\n",
        "model.add(Conv2D(256, (3, 3)))\n",
        "model.add(Activation('elu'))\n",
        "model.add(MaxPooling2D(pool_size=(2, 2)))\n",
        "model.add(Dropout(0.25))\n",
        "\n",
        "model.add(Conv2D(512, (3, 3), padding='same'))\n",
        "model.add(Activation('elu'))\n",
        "model.add(Conv2D(512, (3, 3)))\n",
        "model.add(Activation('elu'))\n",
        "model.add(MaxPooling2D(pool_size=(2, 2)))\n",
        "model.add(Dropout(0.25))\n",
        "\n",
        "\n",
        "model.add(Flatten())\n",
        "model.add(Dense(1024))\n",
        "model.add(Activation('elu'))\n",
        "model.add(Dropout(0.5))\n",
        "model.add(Dense(100))\n",
        "model.add(Activation('softmax'))"
      ],
      "execution_count": 0,
      "outputs": []
    },
    {
      "cell_type": "code",
      "metadata": {
        "id": "S9Vxmm9E11al",
        "colab_type": "code",
        "colab": {
          "base_uri": "https://localhost:8080/",
          "height": 972
        },
        "outputId": "63b134aa-29c6-4b9c-860e-a2eb0c2e2f3d"
      },
      "source": [
        "model.summary()"
      ],
      "execution_count": 8,
      "outputs": [
        {
          "output_type": "stream",
          "text": [
            "Model: \"sequential_1\"\n",
            "_________________________________________________________________\n",
            "Layer (type)                 Output Shape              Param #   \n",
            "=================================================================\n",
            "conv2d_1 (Conv2D)            (None, 32, 32, 128)       3584      \n",
            "_________________________________________________________________\n",
            "activation_1 (Activation)    (None, 32, 32, 128)       0         \n",
            "_________________________________________________________________\n",
            "conv2d_2 (Conv2D)            (None, 30, 30, 128)       147584    \n",
            "_________________________________________________________________\n",
            "activation_2 (Activation)    (None, 30, 30, 128)       0         \n",
            "_________________________________________________________________\n",
            "max_pooling2d_1 (MaxPooling2 (None, 15, 15, 128)       0         \n",
            "_________________________________________________________________\n",
            "conv2d_3 (Conv2D)            (None, 15, 15, 256)       295168    \n",
            "_________________________________________________________________\n",
            "activation_3 (Activation)    (None, 15, 15, 256)       0         \n",
            "_________________________________________________________________\n",
            "conv2d_4 (Conv2D)            (None, 13, 13, 256)       590080    \n",
            "_________________________________________________________________\n",
            "activation_4 (Activation)    (None, 13, 13, 256)       0         \n",
            "_________________________________________________________________\n",
            "max_pooling2d_2 (MaxPooling2 (None, 6, 6, 256)         0         \n",
            "_________________________________________________________________\n",
            "dropout_1 (Dropout)          (None, 6, 6, 256)         0         \n",
            "_________________________________________________________________\n",
            "conv2d_5 (Conv2D)            (None, 6, 6, 512)         1180160   \n",
            "_________________________________________________________________\n",
            "activation_5 (Activation)    (None, 6, 6, 512)         0         \n",
            "_________________________________________________________________\n",
            "conv2d_6 (Conv2D)            (None, 4, 4, 512)         2359808   \n",
            "_________________________________________________________________\n",
            "activation_6 (Activation)    (None, 4, 4, 512)         0         \n",
            "_________________________________________________________________\n",
            "max_pooling2d_3 (MaxPooling2 (None, 2, 2, 512)         0         \n",
            "_________________________________________________________________\n",
            "dropout_2 (Dropout)          (None, 2, 2, 512)         0         \n",
            "_________________________________________________________________\n",
            "flatten_1 (Flatten)          (None, 2048)              0         \n",
            "_________________________________________________________________\n",
            "dense_1 (Dense)              (None, 1024)              2098176   \n",
            "_________________________________________________________________\n",
            "activation_7 (Activation)    (None, 1024)              0         \n",
            "_________________________________________________________________\n",
            "dropout_3 (Dropout)          (None, 1024)              0         \n",
            "_________________________________________________________________\n",
            "dense_2 (Dense)              (None, 100)               102500    \n",
            "_________________________________________________________________\n",
            "activation_8 (Activation)    (None, 100)               0         \n",
            "=================================================================\n",
            "Total params: 6,777,060\n",
            "Trainable params: 6,777,060\n",
            "Non-trainable params: 0\n",
            "_________________________________________________________________\n"
          ],
          "name": "stdout"
        }
      ]
    },
    {
      "cell_type": "markdown",
      "metadata": {
        "id": "qC6taYAz9ply",
        "colab_type": "text"
      },
      "source": [
        ""
      ]
    },
    {
      "cell_type": "code",
      "metadata": {
        "id": "FiT7zN2P17WA",
        "colab_type": "code",
        "colab": {}
      },
      "source": [
        "# initiate RMSprop optimizer\n",
        "opt = keras.optimizers.rmsprop(lr=0.0001, decay=1e-6)\n",
        "\n",
        "# Let's train the model using RMSpro\n",
        "model.compile(loss='categorical_crossentropy',\n",
        "              optimizer=opt,\n",
        "              metrics=['accuracy'])"
      ],
      "execution_count": 0,
      "outputs": []
    },
    {
      "cell_type": "code",
      "metadata": {
        "id": "aB4wfRxK2DHL",
        "colab_type": "code",
        "colab": {
          "base_uri": "https://localhost:8080/",
          "height": 1000
        },
        "outputId": "a1bb212f-9eb0-4bee-973e-db8a54f3f152"
      },
      "source": [
        "epochs = 100\n",
        "data_augmentation = True\n",
        "num_predictions = 20\n",
        "batch_size = 64\n",
        "validations = []\n",
        "history=model.fit(train_images,train_labels,\n",
        "            batch_size=batch_size,\n",
        "            epochs=epochs,\n",
        "            validation_data=(test_images, test_labels),\n",
        "            shuffle=True)"
      ],
      "execution_count": 0,
      "outputs": [
        {
          "output_type": "stream",
          "text": [
            "Train on 50000 samples, validate on 10000 samples\n",
            "Epoch 1/100\n",
            "50000/50000 [==============================] - 71s 1ms/step - loss: 3.9250 - accuracy: 0.1103 - val_loss: 3.4170 - val_accuracy: 0.2026\n",
            "Epoch 2/100\n",
            "50000/50000 [==============================] - 63s 1ms/step - loss: 3.2989 - accuracy: 0.2155 - val_loss: 3.0465 - val_accuracy: 0.2729\n",
            "Epoch 3/100\n",
            "50000/50000 [==============================] - 62s 1ms/step - loss: 2.9381 - accuracy: 0.2843 - val_loss: 2.7206 - val_accuracy: 0.3372\n",
            "Epoch 4/100\n",
            "50000/50000 [==============================] - 63s 1ms/step - loss: 2.6916 - accuracy: 0.3328 - val_loss: 2.4796 - val_accuracy: 0.3814\n",
            "Epoch 5/100\n",
            "50000/50000 [==============================] - 63s 1ms/step - loss: 2.5087 - accuracy: 0.3701 - val_loss: 2.3317 - val_accuracy: 0.4146\n",
            "Epoch 6/100\n",
            "50000/50000 [==============================] - 63s 1ms/step - loss: 2.3435 - accuracy: 0.4065 - val_loss: 2.2589 - val_accuracy: 0.4240\n",
            "Epoch 7/100\n",
            "50000/50000 [==============================] - 63s 1ms/step - loss: 2.2165 - accuracy: 0.4322 - val_loss: 2.1530 - val_accuracy: 0.4549\n",
            "Epoch 8/100\n",
            "50000/50000 [==============================] - 63s 1ms/step - loss: 2.0910 - accuracy: 0.4604 - val_loss: 2.1094 - val_accuracy: 0.4594\n",
            "Epoch 9/100\n",
            "50000/50000 [==============================] - 63s 1ms/step - loss: 1.9644 - accuracy: 0.4884 - val_loss: 2.0291 - val_accuracy: 0.4884\n",
            "Epoch 10/100\n",
            "50000/50000 [==============================] - 63s 1ms/step - loss: 1.8394 - accuracy: 0.5158 - val_loss: 1.9835 - val_accuracy: 0.4916\n",
            "Epoch 11/100\n",
            "50000/50000 [==============================] - 63s 1ms/step - loss: 1.7324 - accuracy: 0.5357 - val_loss: 1.9185 - val_accuracy: 0.5066\n",
            "Epoch 12/100\n",
            "50000/50000 [==============================] - 63s 1ms/step - loss: 1.6123 - accuracy: 0.5656 - val_loss: 1.9460 - val_accuracy: 0.4992\n",
            "Epoch 13/100\n",
            "50000/50000 [==============================] - 63s 1ms/step - loss: 1.5139 - accuracy: 0.5876 - val_loss: 1.9808 - val_accuracy: 0.5040\n",
            "Epoch 14/100\n",
            "50000/50000 [==============================] - 63s 1ms/step - loss: 1.4037 - accuracy: 0.6126 - val_loss: 1.8656 - val_accuracy: 0.5185\n",
            "Epoch 15/100\n",
            "50000/50000 [==============================] - 63s 1ms/step - loss: 1.2979 - accuracy: 0.6375 - val_loss: 1.8842 - val_accuracy: 0.5213\n",
            "Epoch 16/100\n",
            "50000/50000 [==============================] - 63s 1ms/step - loss: 1.2102 - accuracy: 0.6581 - val_loss: 1.8942 - val_accuracy: 0.5221\n",
            "Epoch 17/100\n",
            "50000/50000 [==============================] - 63s 1ms/step - loss: 1.1130 - accuracy: 0.6808 - val_loss: 1.8790 - val_accuracy: 0.5263\n",
            "Epoch 18/100\n",
            "50000/50000 [==============================] - 63s 1ms/step - loss: 1.0191 - accuracy: 0.7053 - val_loss: 1.8936 - val_accuracy: 0.5318\n",
            "Epoch 19/100\n",
            "50000/50000 [==============================] - 63s 1ms/step - loss: 0.9392 - accuracy: 0.7245 - val_loss: 1.9077 - val_accuracy: 0.5343\n",
            "Epoch 20/100\n",
            "50000/50000 [==============================] - 63s 1ms/step - loss: 0.8618 - accuracy: 0.7468 - val_loss: 1.9836 - val_accuracy: 0.5212\n",
            "Epoch 21/100\n",
            "50000/50000 [==============================] - 63s 1ms/step - loss: 0.7918 - accuracy: 0.7636 - val_loss: 1.9702 - val_accuracy: 0.5353\n",
            "Epoch 22/100\n",
            "50000/50000 [==============================] - 63s 1ms/step - loss: 0.7280 - accuracy: 0.7812 - val_loss: 2.0318 - val_accuracy: 0.5317\n",
            "Epoch 23/100\n",
            "50000/50000 [==============================] - 63s 1ms/step - loss: 0.6638 - accuracy: 0.8009 - val_loss: 2.0619 - val_accuracy: 0.5416\n",
            "Epoch 24/100\n",
            "50000/50000 [==============================] - 63s 1ms/step - loss: 0.6054 - accuracy: 0.8152 - val_loss: 2.0231 - val_accuracy: 0.5401\n",
            "Epoch 25/100\n",
            "50000/50000 [==============================] - 63s 1ms/step - loss: 0.5544 - accuracy: 0.8320 - val_loss: 2.1030 - val_accuracy: 0.5319\n",
            "Epoch 26/100\n",
            "50000/50000 [==============================] - 63s 1ms/step - loss: 0.5113 - accuracy: 0.8424 - val_loss: 2.0590 - val_accuracy: 0.5262\n",
            "Epoch 27/100\n",
            "50000/50000 [==============================] - 63s 1ms/step - loss: 0.4694 - accuracy: 0.8551 - val_loss: 2.1856 - val_accuracy: 0.5402\n",
            "Epoch 28/100\n",
            "50000/50000 [==============================] - 63s 1ms/step - loss: 0.4383 - accuracy: 0.8642 - val_loss: 2.1708 - val_accuracy: 0.5413\n",
            "Epoch 29/100\n",
            "50000/50000 [==============================] - 64s 1ms/step - loss: 0.4073 - accuracy: 0.8733 - val_loss: 2.1073 - val_accuracy: 0.5428\n",
            "Epoch 30/100\n",
            "50000/50000 [==============================] - 63s 1ms/step - loss: 0.3772 - accuracy: 0.8838 - val_loss: 2.1111 - val_accuracy: 0.5380\n",
            "Epoch 31/100\n",
            "50000/50000 [==============================] - 63s 1ms/step - loss: 0.3476 - accuracy: 0.8915 - val_loss: 2.2275 - val_accuracy: 0.5317\n",
            "Epoch 32/100\n",
            "50000/50000 [==============================] - 63s 1ms/step - loss: 0.3328 - accuracy: 0.8969 - val_loss: 2.2388 - val_accuracy: 0.5419\n",
            "Epoch 33/100\n",
            "50000/50000 [==============================] - 64s 1ms/step - loss: 0.3107 - accuracy: 0.9027 - val_loss: 2.2108 - val_accuracy: 0.5459\n",
            "Epoch 34/100\n",
            "50000/50000 [==============================] - 63s 1ms/step - loss: 0.2942 - accuracy: 0.9081 - val_loss: 2.3855 - val_accuracy: 0.5451\n",
            "Epoch 35/100\n",
            "50000/50000 [==============================] - 64s 1ms/step - loss: 0.2822 - accuracy: 0.9110 - val_loss: 2.3920 - val_accuracy: 0.5447\n",
            "Epoch 36/100\n",
            "50000/50000 [==============================] - 64s 1ms/step - loss: 0.2654 - accuracy: 0.9182 - val_loss: 2.3262 - val_accuracy: 0.5441\n",
            "Epoch 37/100\n",
            "50000/50000 [==============================] - 64s 1ms/step - loss: 0.2507 - accuracy: 0.9204 - val_loss: 2.3373 - val_accuracy: 0.5435\n",
            "Epoch 38/100\n",
            "50000/50000 [==============================] - 64s 1ms/step - loss: 0.2424 - accuracy: 0.9241 - val_loss: 2.2029 - val_accuracy: 0.5390\n",
            "Epoch 39/100\n",
            "50000/50000 [==============================] - 63s 1ms/step - loss: 0.2301 - accuracy: 0.9280 - val_loss: 2.4997 - val_accuracy: 0.5490\n",
            "Epoch 40/100\n",
            "50000/50000 [==============================] - 64s 1ms/step - loss: 0.2190 - accuracy: 0.9316 - val_loss: 2.4251 - val_accuracy: 0.5395\n",
            "Epoch 41/100\n",
            "50000/50000 [==============================] - 63s 1ms/step - loss: 0.2132 - accuracy: 0.9329 - val_loss: 2.4165 - val_accuracy: 0.5390\n",
            "Epoch 42/100\n",
            "48256/50000 [===========================>..] - ETA: 2s - loss: 0.2083 - accuracy: 0.9354"
          ],
          "name": "stdout"
        }
      ]
    },
    {
      "cell_type": "markdown",
      "metadata": {
        "id": "xqfddhtg3Kbn",
        "colab_type": "text"
      },
      "source": [
        ""
      ]
    },
    {
      "cell_type": "code",
      "metadata": {
        "id": "zFmXfrBH2yJA",
        "colab_type": "code",
        "colab": {}
      },
      "source": [
        "plt.plot(history.history['accuracy'], label='accuracy')\n",
        "plt.plot(history.history['val_accuracy'], label = 'val_accuracy')\n",
        "plt.xlabel('Epoch')\n",
        "plt.ylabel('Accuracy')\n",
        "plt.ylim([0.5, 1])\n",
        "plt.legend(loc='lower right')\n",
        "\n",
        "test_loss, test_acc = model.evaluate(test_images,  test_labels, verbose=2)\n",
        "score = model.evaluate(test_images,test_labels, verbose=1)\n",
        "print(f'Test loss: {score[0]} / Test accuracy: {score[1]}')"
      ],
      "execution_count": 0,
      "outputs": []
    },
    {
      "cell_type": "code",
      "metadata": {
        "id": "o4TfB99xAlLK",
        "colab_type": "code",
        "colab": {}
      },
      "source": [
        "predict_gen = model.predict_generator(datagen.flow(test_images,test_labels,\n",
        "                                      batch_size=batch_size),\n",
        "                                      steps=test_images.shape[0] // batch_size)\n",
        "\n",
        "for predict_index, predicted_y in enumerate(predict_gen):\n",
        "    actual_label = labels['fine_label_names'][np.argmax(y_test[predict_index])]\n",
        "    predicted_label = labels['fine_label_names'][np.argmax(predicted_y)]\n",
        "    print('Actual Label = %s vs. Predicted Label = %s' % (actual_label,\n",
        "                                                          predicted_label))\n",
        "    if predict_index == 20:\n",
        "        break"
      ],
      "execution_count": 0,
      "outputs": []
    }
  ]
}