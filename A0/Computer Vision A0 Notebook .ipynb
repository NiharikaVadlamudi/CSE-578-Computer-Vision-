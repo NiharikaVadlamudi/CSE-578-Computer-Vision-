{
 "cells": [
  {
   "cell_type": "markdown",
   "metadata": {},
   "source": [
    "# Q-1 : Video-Images\n",
    "\n",
    "\n",
    "* Part A : The goal of this question is to familiarise with the concepts of video to image conversion and vice-versa, to a specified folder.\n",
    "\n",
    "* Part B :Take a real-time webcam video , and then convert to frames.  "
   ]
  },
  {
   "cell_type": "code",
   "execution_count": 41,
   "metadata": {},
   "outputs": [],
   "source": [
    "#Importing libraries.\n",
    "import cv2  \n",
    "import matplotlib.pyplot as plt \n",
    "import numpy \n",
    "import os \n",
    "import sys \n",
    "import numpy as np \n",
    "import csv "
   ]
  },
  {
   "cell_type": "markdown",
   "metadata": {},
   "source": [
    "* We will use 2 in built libraries - VideoWriter() and VideoCapture(). "
   ]
  },
  {
   "cell_type": "code",
   "execution_count": 33,
   "metadata": {},
   "outputs": [],
   "source": [
    "# Code Part 1 \n",
    "\n",
    "#Note : 2 GiFs were given as input in this folder .\n",
    "\n",
    "# Inputs \n",
    "currdir='C:\\\\Users\\\\dell\\\\Desktop\\\\CV_A0_Niharika'\n",
    "imagePath=currdir+'\\\\OptImages'\n",
    "\n",
    "videoName1=\"captainAmerica.mp4\"\n",
    "videoName=\"spiderman.mp4\"\n",
    "\n",
    "videoPath=os.path.join(currdir+'\\\\'+videoName)\n",
    "videoPath1=os.path.join(currdir+'\\\\'+videoName1)\n",
    "\n",
    "# These are GIFs,so duration length is extremely small , hence fps should be high.\n",
    "framesperSecond=0.05 \n",
    "destinationPath=currdir+\"\\\\\"+\"OutputImsQ1\"\n",
    "destinationPath1=currdir+\"\\\\\"+\"Output_Avengers\"\n",
    "destinationPath3=currdir+\"\\\\\"+\"Webcam_Online\""
   ]
  },
  {
   "cell_type": "code",
   "execution_count": 22,
   "metadata": {},
   "outputs": [
    {
     "name": "stdout",
     "output_type": "stream",
     "text": [
      "Assignment0.pdf\n",
      "Computer Vision A0 Notebook .ipynb\n",
      "OutputImsQ1\n",
      "Output_Avengers\n",
      "captainAmerica.mp4\n",
      "spiderman.mp4\n"
     ]
    }
   ],
   "source": [
    "!ls "
   ]
  },
  {
   "cell_type": "code",
   "execution_count": 30,
   "metadata": {},
   "outputs": [],
   "source": [
    "# Function for reading the video , it takes the source path and destination path and prints the number of\n",
    "# frames obtained as well as stores in the source file . \n",
    "\n",
    "def getImages(videoPath,destinationPath,webCam=0):\n",
    "    imgCount=0 \n",
    "    if(webCam==0):\n",
    "        video=cv2.VideoCapture(videoPath)\n",
    "    else: \n",
    "        #For Webcam Stuff .\n",
    "        video = cv2.VideoCapture(0)\n",
    "    \n",
    "    if(video.isOpened()== False):\n",
    "        print(\"Unable to open video !\")\n",
    "        return\n",
    "    \n",
    "    else:\n",
    "        print(\"File available!Loading the images!\")\n",
    "    while True:\n",
    "        success, image = video.read() \n",
    "        if success==0:\n",
    "            break\n",
    "        else:\n",
    "            #Displaying the images ! \n",
    "            cv2.imshow('image',image)\n",
    "            cv2.imwrite('{}/{}.png'.format(destinationPath,imgCount), image)\n",
    "            imgCount+= 1\n",
    "            # Stop if q key is pressed \n",
    "            if cv2.waitKey(30) & 0xFF==ord('q'):\n",
    "                break\n",
    "                \n",
    "    cv2.destroyAllWindows()\n",
    "    video.release()\n",
    "    print(\"Total frames/images extracted for given video are : \",end=\"\")\n",
    "    print(imgCount)    \n",
    "    return\n"
   ]
  },
  {
   "cell_type": "code",
   "execution_count": 34,
   "metadata": {},
   "outputs": [
    {
     "name": "stdout",
     "output_type": "stream",
     "text": [
      "File available!Loading the images!\n",
      "Total frames/images extracted for given video are : 47\n"
     ]
    }
   ],
   "source": [
    "#Function Testing: \n",
    "\n",
    "#No Webcam .\n",
    "\n",
    "#getImages(videoPath,destinationPath,0)\n",
    "#getImages(videoPath1,destinationPath1,0)\n",
    "\n",
    "\n",
    "#Using Webcam \n",
    "#getImages(videoPath1,destinationPath3,1)\n"
   ]
  },
  {
   "cell_type": "code",
   "execution_count": 28,
   "metadata": {},
   "outputs": [],
   "source": [
    "# Part A : Convert the images to consolidated video . \n",
    "\n",
    "def VideoCombination(destinationPath,framesRate):\n",
    "    # By default it will be stored as .mp4 file format.\n",
    "    path=destinationPath+'_'+str(framesRate)+'_'+'.mp4'\n",
    "    fourcc = cv2.VideoWriter_fourcc(*'XVID')\n",
    "    \n",
    "    # sort the files in given directory\n",
    "    image_list = sorted(os.listdir(destinationPath),key=lambda x: int(x.split('.')[0]))\n",
    "    frame = cv2.imread(os.path.join(destinationPath,image_list[0]))\n",
    "    size = (frame.shape[1],frame.shape[0])\n",
    "    \n",
    "    #Calling the VideoWriter Tool (OpenCV2)\n",
    "    vid = cv2.VideoWriter(path,fourcc,framesRate,size)\n",
    "    \n",
    "    # will make a video from all frames in the given folder\n",
    "    for filename in image_list:\n",
    "        frame = cv2.imread(os.path.join(destinationPath,filename))\n",
    "        vid.write(frame)\n",
    "    \n",
    "    vid.release()\n",
    "    cv2.destroyAllWindows()\n",
    "    return\n",
    "\n",
    "#Testing .\n",
    "\n",
    "#Very Slow Video of the GIF\n",
    "#VideoCombination(destinationPath1,0.1)\n",
    "#Medium FPS Video of the GIF\n",
    "#VideoCombination(destinationPath1,20)\n",
    "#Fast FPS Video of the GIF\n",
    "#VideoCombination(destinationPath1,100)"
   ]
  },
  {
   "cell_type": "markdown",
   "metadata": {},
   "source": [
    "# Capturing Images : Webcam "
   ]
  },
  {
   "cell_type": "code",
   "execution_count": 37,
   "metadata": {},
   "outputs": [],
   "source": [
    "# Capturing Images (Webcam)\n",
    "\n",
    "def getWebcamImages(destinationPath,webCam=1):\n",
    "    imgCount=0 \n",
    "    if(webCam==0):\n",
    "        print(\"Webcam device Not Activated ! \")\n",
    "        return\n",
    "    else: \n",
    "        #For Webcam Stuff .\n",
    "        video = cv2.VideoCapture(0)\n",
    "    while True:\n",
    "        success, image = video.read() \n",
    "        if success==0:\n",
    "            break\n",
    "        else:\n",
    "            #Displaying the images ! \n",
    "            cv2.imshow('image',image)\n",
    "            cv2.imwrite('{}/{}.png'.format(destinationPath,imgCount), image)\n",
    "            imgCount+= 1\n",
    "            # Stop if q key is pressed \n",
    "            if cv2.waitKey(30) & 0xFF==ord('q'):\n",
    "                break        \n",
    "    cv2.destroyAllWindows()\n",
    "    video.release()\n",
    "    return"
   ]
  },
  {
   "cell_type": "code",
   "execution_count": 40,
   "metadata": {},
   "outputs": [],
   "source": [
    "# Function Testing . \n",
    "path=currdir+'//'+'WebcamTest'\n",
    "getWebcamImages(path,webCam=1)\n",
    "# Works !"
   ]
  },
  {
   "cell_type": "markdown",
   "metadata": {},
   "source": [
    "# Chroma Keying Technique .\n",
    "\n",
    "* We need to read both the images , store it seperate folders,combine them both at the regions with foreground as green screen , and replace it with backgroud. \n",
    "\n",
    "* We will call 2 functions from above : getImages & VideoCombiner in the chromaKeying function. \n",
    "\n",
    "* 2 files : Flight.mp4 (Foreground) and Mountain.mp4 (Background) , both of them will be combined using above functions and other functions! \n",
    "\n"
   ]
  },
  {
   "cell_type": "code",
   "execution_count": 44,
   "metadata": {},
   "outputs": [],
   "source": [
    "def chromaKeying(foregroundvidPath,backgroundvidPath,finalPath,threshold=128,framesRate=100): \n",
    "    destinationPathf=currdir+\"\\\\\"+\"fore\"\n",
    "    destinationPathb=currdir+\"\\\\\"+\"back\"\n",
    "    #Make each of the videos to set of Images.\n",
    "    getImages(foregroundvidPath,destinationPathf,webCam=0)\n",
    "    getImages(backgroundvidPath,destinationPathb,webCam=0)\n",
    "    \n",
    " \n",
    "    # Minimum Number of frames .\n",
    "    count=min(len(foreList),len(backList)) \n",
    "    \n",
    "    \n",
    "    #Run a loop through these images and sort them. \n",
    "    backList=sorted([int(temp.split('.')[0]) for temp in os.listdir(destinationPathf.split('.')[0])])\n",
    "    foreList=sorted([int(temp.split('.')[0]) for temp in os.listdir(destinationPathb.split('.')[0])])\n",
    "    \n",
    "    \n",
    "    #Main running loop. \n",
    "    for i in range(count):\n",
    "        fg = cv2.imread('{}/{}.png'.format(destinationPathf.split('.')[0], i))\n",
    "        bg = cv2.imread('{}/{}.png'.format(destinationPathb.split('.')[0], i))\n",
    "        #Resizing based on foreground image . \n",
    "        h,w,c = fg.shape\n",
    "        bg = cv2.resize(bg,(fg.shape[1], fg.shape[0]))\n",
    "        # Extracting the Green Mask around the foreground image . \n",
    "        greenMask=fg[:, :, 1]\n",
    "        imgMask = (fg[:, :, 1] < threshold) | (np.amax(fg, axis=2) != green_mask)\n",
    "        # Inversion.\n",
    "        imgMask =1 - imgMask\n",
    "        m_fg = np.copy(fg)\n",
    "        m_fg[img_mask != 0] = [0,0,0]\n",
    "        m_bg = np.copy(bg)\n",
    "        m_bg[img_mask == 0] = [0,0,0]\n",
    "        # Resultant Image .\n",
    "        res_img = m_fg+m_bg\n",
    "        cv2.imwrite('{}/{}.png'.format(out_path,i),res_img)\n",
    "    VideoCombination(finalPath,framesRate)\n",
    "    print(\"Chroma-Keying Done\")\n",
    "    return"
   ]
  }
 ],
 "metadata": {
  "kernelspec": {
   "display_name": "Python 3",
   "language": "python",
   "name": "python3"
  },
  "language_info": {
   "codemirror_mode": {
    "name": "ipython",
    "version": 3
   },
   "file_extension": ".py",
   "mimetype": "text/x-python",
   "name": "python",
   "nbconvert_exporter": "python",
   "pygments_lexer": "ipython3",
   "version": "3.7.4"
  }
 },
 "nbformat": 4,
 "nbformat_minor": 2
}
